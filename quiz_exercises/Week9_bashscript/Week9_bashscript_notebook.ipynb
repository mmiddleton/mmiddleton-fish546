{
 "cells": [
  {
   "cell_type": "markdown",
   "metadata": {},
   "source": [
    "# Running a bash script that I wrote"
   ]
  },
  {
   "cell_type": "markdown",
   "metadata": {},
   "source": [
    "This script was written for future scenarios where I want to make a backup of my `fastq` data files\n",
    "and put them in a separate directory.\n",
    "This will prove useful in the event that something happens to the files that I'm working with as I \n",
    "analyze them."
   ]
  },
  {
   "cell_type": "markdown",
   "metadata": {},
   "source": [
    "The script itself can be found [here](https://github.com/mmiddleton/mmiddleton-fish546/blob/master/quiz_exercises/Week9_bashscript/quiz9.sh)"
   ]
  },
  {
   "cell_type": "markdown",
   "metadata": {},
   "source": [
    "Start by making sure that I am in the correct directory (contains both the script and the files I want to backup)"
   ]
  },
  {
   "cell_type": "code",
   "execution_count": 1,
   "metadata": {
    "collapsed": false
   },
   "outputs": [
    {
     "name": "stdout",
     "output_type": "stream",
     "text": [
      "/c/Users/Mollie.Middleton/Documents/GitHub/mmiddleton-fish546/quiz_exercises/Week9_bashscript\n"
     ]
    }
   ],
   "source": [
    "!pwd"
   ]
  },
  {
   "cell_type": "code",
   "execution_count": 2,
   "metadata": {
    "collapsed": false
   },
   "outputs": [
    {
     "name": "stdout",
     "output_type": "stream",
     "text": [
      "quiz9.sh\n",
      "sample1.fastq\n",
      "sample2.fastq\n",
      "sample3.fastq\n",
      "Week9_bashscript_notebook.ipynb\n"
     ]
    }
   ],
   "source": [
    "!ls"
   ]
  },
  {
   "cell_type": "markdown",
   "metadata": {},
   "source": [
    "Run the script"
   ]
  },
  {
   "cell_type": "code",
   "execution_count": 5,
   "metadata": {
    "collapsed": false
   },
   "outputs": [
    {
     "name": "stdout",
     "output_type": "stream",
     "text": [
      "Listing current directory\n",
      "quiz9.sh\n",
      "sample1.fastq\n",
      "sample2.fastq\n",
      "sample3.fastq\n",
      "Week9_bashscript_notebook.ipynb\n",
      "Created copies of files\n",
      "Created new directory\n",
      "Listing current directory\n",
      "quiz9.sh\n",
      "Raw_backup\n",
      "sample1.fastq\n",
      "sample1-raw.fastq\n",
      "sample2.fastq\n",
      "sample2-raw.fastq\n",
      "sample3.fastq\n",
      "sample3-raw.fastq\n",
      "Week9_bashscript_notebook.ipynb\n",
      "Moved copies of files to Raw_backup\n",
      "Listing current directory\n",
      "quiz9.sh\n",
      "Raw_backup\n",
      "sample1.fastq\n",
      "sample2.fastq\n",
      "sample3.fastq\n",
      "Week9_bashscript_notebook.ipynb\n",
      "Changing directory to Raw_backup\n",
      "Listing current directory\n",
      "sample1-raw.fastq\n",
      "sample2-raw.fastq\n",
      "sample3-raw.fastq\n",
      "Process complete\n"
     ]
    }
   ],
   "source": [
    "!bash quiz9.sh"
   ]
  },
  {
   "cell_type": "markdown",
   "metadata": {},
   "source": [
    "I could also easily go in and change the script so that it can be used for different file types (`.txt`, `.tab`, etc.)"
   ]
  }
 ],
 "metadata": {
  "anaconda-cloud": {},
  "kernelspec": {
   "display_name": "Python [default]",
   "language": "python",
   "name": "python3"
  },
  "language_info": {
   "codemirror_mode": {
    "name": "ipython",
    "version": 3
   },
   "file_extension": ".py",
   "mimetype": "text/x-python",
   "name": "python",
   "nbconvert_exporter": "python",
   "pygments_lexer": "ipython3",
   "version": "3.5.2"
  }
 },
 "nbformat": 4,
 "nbformat_minor": 1
}
