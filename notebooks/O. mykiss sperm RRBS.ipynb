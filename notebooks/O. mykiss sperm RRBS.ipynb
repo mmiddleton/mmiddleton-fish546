{
 "cells": [
  {
   "cell_type": "markdown",
   "metadata": {},
   "source": [
    "# Steelhead (O. mykiss) sperm RRBS data check"
   ]
  },
  {
   "cell_type": "markdown",
   "metadata": {},
   "source": [
    "This data was given to me on a flash drive by Mackenzie Gavery.\n",
    "It is from sperm treated for RRBS and run on the MiSeq (Illumina) at the Northwest Fisheries Science Center.\n",
    "For additional information see my README.md in `data/`. Since I've never worked with sequencing data before this is a quick check so I can see \n",
    "what the fastq file contains."
   ]
  },
  {
   "cell_type": "code",
   "execution_count": 14,
   "metadata": {
    "collapsed": false
   },
   "outputs": [
    {
     "name": "stdout",
     "output_type": "stream",
     "text": [
      "C:\\Users\\Mollie.Middleton\\Documents\\GitHub\\mmiddleton-fish546\\data\n"
     ]
    }
   ],
   "source": [
    "cd data"
   ]
  },
  {
   "cell_type": "code",
   "execution_count": 18,
   "metadata": {
    "collapsed": false
   },
   "outputs": [
    {
     "name": "stdout",
     "output_type": "stream",
     "text": [
      "89_S1_L001_R1_001.fastq\n"
     ]
    }
   ],
   "source": [
    "!ls"
   ]
  },
  {
   "cell_type": "markdown",
   "metadata": {},
   "source": [
    "Do a check of how many lines this file contains."
   ]
  },
  {
   "cell_type": "code",
   "execution_count": 19,
   "metadata": {
    "collapsed": false
   },
   "outputs": [
    {
     "name": "stdout",
     "output_type": "stream",
     "text": [
      "20767284 89_S1_L001_R1_001.fastq\n"
     ]
    }
   ],
   "source": [
    "!wc -l 89_S1_L001_R1_001.fastq"
   ]
  },
  {
   "cell_type": "markdown",
   "metadata": {},
   "source": [
    "See what the first few lines of the file look like."
   ]
  },
  {
   "cell_type": "code",
   "execution_count": 20,
   "metadata": {
    "collapsed": false
   },
   "outputs": [
    {
     "name": "stdout",
     "output_type": "stream",
     "text": [
      "@M02215:37:000000000-AEAWM:1:1101:15245:1708 1:N:0:1\n",
      "CGGTACGGTTTTTTTTTTTTTTTTTTTTTTTTTTTTTTTTTTTTTTTTTTTTTTTTTTTTTTTTTTTTTTTTTTTTTTTTTTTTTTTTTTTTTTTTTTTTTTTTTTTTTTTTTTTTTTTTTTTTTTTTCTCCTTTTTTTTCCTTCCTCTCC\n",
      "+\n",
      ">1>>1>1AFAAAFGGGGGCGGGCEGGGGEGGCE?CCCCC/<----<@@CG@?-@@?@<?@@@<@@???@=@<<@@;>>;-9-99--->>---=9->--@>@@@@-@--9---@-9-------------/////////---///////////\n",
      "@M02215:37:000000000-AEAWM:1:1101:14286:1709 1:N:0:1\n",
      "CGGTTTTTTTTTTTTTTTTATTTTTTTTTTTTTTTTTTTTTTTTTTTTTTTTTTTTTTTTTTTTTTTTTTTTTTTTTTTATTTGTTTTTTTTTTTTTTTTTTTTTTTTCTCTTTTTTTTTTTTTTTTTTTTCTCCCTTCTTCTCCTCCCCT\n",
      "+\n",
      ">>>>1AA1>1A0A0//A///FAD2D///EE?/>@//</>BCC@<@CCC--@A@?@@;=@--=@@@@;--=->-;>=9---9///;--B-9-9---;--------;@;-////9/9/---------------//9//-/-9//////-/---\n",
      "@M02215:37:000000000-AEAWM:1:1101:17733:1728 1:N:0:1\n",
      "CGGGTTTTTTTTTATTTTTTTTTTTTTTTTGTGTTATTTTTTTTTAGATTTTTTTTTATTTTTTTGTTTTTTTTAGAATTTGTTTATTTTTCGTCTATTTTTTCGTCATTCCTGTTTTTTGTTTCTTTTTTTATCCTTGTTTCTTTTTTTT\n"
     ]
    }
   ],
   "source": [
    "!head -10 89_S1_L001_R1_001.fastq"
   ]
  },
  {
   "cell_type": "markdown",
   "metadata": {},
   "source": [
    "See what the last few lines of the file look like."
   ]
  },
  {
   "cell_type": "code",
   "execution_count": 21,
   "metadata": {
    "collapsed": false
   },
   "outputs": [
    {
     "name": "stdout",
     "output_type": "stream",
     "text": [
      "+\n",
      ">11111>1>0>00///AA/>/////>/><<///>//?<?BA@C-<<:--9-?-------9----=-;---9@;@---9--;/9///9@?>-/999//9-@9//9/9/-/;9B//----9---------9---9---------9---/////\n",
      "@M02215:37:000000000-AEAWM:1:2114:16296:29289 1:N:0:1\n",
      "CTTTTTTTTTTTTTTTTTTTTTTTTTTTTTTTTTTTTTTTTTTTTTTTTTTTTTTTTTTTTTTTTTTTTTTTTTTTTTTTTTTTTTTTTTTTTTTTTTCTTTTTTTTTTTTATTTTTTTTTTTTTTTTTTTTTTTTTTTTTTTTTTTTTTC\n",
      "+\n",
      "1111111>0>00AA/////////>///<///<<<//-<-<<:---9----9-9--99----99>>@@-@----9;-9--9--99--@>@---9-----/;///:@--9@-9-//9//---9---999=-9-------9----9@9----9/\n",
      "@M02215:37:000000000-AEAWM:1:2114:16332:29315 1:N:0:1\n",
      "CTTTTTTTTTTTTTTTTTTTTTTTTTTTTTTTTTTTTTTTTTTTTTTTTTTTTTTTTTTTTTTTTTTTTTTTTTTTTTTTTTTTTTTTTTTTTTTTTTCTTTTTTTTTGTTTTTTCTTTCTTCTTTCCTTCTTTCTCTCCTTTTTCTTTTT\n",
      "+\n",
      "1111111>00>0A///////>///>//<<<///<//---<---:9-----9-9@-9-9@@>99-----;--999--;-----@;-@----999-9-99/;:///-----------///////////////////////////9////////\n"
     ]
    }
   ],
   "source": [
    "!tail -10 89_S1_L001_R1_001.fastq"
   ]
  }
 ],
 "metadata": {
  "anaconda-cloud": {},
  "kernelspec": {
   "display_name": "Python [default]",
   "language": "python",
   "name": "python3"
  },
  "language_info": {
   "codemirror_mode": {
    "name": "ipython",
    "version": 3
   },
   "file_extension": ".py",
   "mimetype": "text/x-python",
   "name": "python",
   "nbconvert_exporter": "python",
   "pygments_lexer": "ipython3",
   "version": "3.5.2"
  }
 },
 "nbformat": 4,
 "nbformat_minor": 1
}
